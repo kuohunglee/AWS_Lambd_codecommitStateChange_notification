{
 "cells": [
  {
   "cell_type": "code",
   "execution_count": null,
   "metadata": {},
   "outputs": [],
   "source": [
    "#觸發事件API GATEWAY\n",
    "\n",
    "import os, json, requests\n",
    "import boto3\n",
    "\n",
    "#環境變數是設定在lambda中的\n",
    "TELEGRAMACCESSTOKEN:str = os.environ[\"TELEGRAMACCESSTOKEN\"] #也就是telegram提供的API Key\n",
    "TELEGRAMCHATID:int = os.environ[\"TELEGRAMCHATID\"]  #telegram提供的ID\n",
    "\n",
    "\n",
    "#Telegram Message API function介面\n",
    "def replyMessage(payload):\n",
    "    payload[\"chat_id\"] = TELEGRAMCHATID\n",
    "    response = requests.post(\"https://api.telegram.org/bot\" + TELEGRAMACCESSTOKEN + \"/sendMessage\", payload)\n",
    "    print(\"reply: \", response.text)\n",
    "\n",
    "def lambda_handler(event, context):\n",
    "    # TODO implement\n",
    "    print(event)\n",
    "    if \"body\" in event:\n",
    "        event = json.loads(event[\"body\"])\n",
    "        \n",
    "    if \"msg\" in event:\n",
    "        text = \"\"\n",
    "        if isinstance(event[\"msg\"],dict):\n",
    "            '''\n",
    "            for k,v in event[\"msg\"].items():\n",
    "                text += \"{} {}\\n\".format(k,\"\\n\".join(v))\n",
    "            '''\n",
    "            text = json.dumps(event[\"msg\"], indent = 4)\n",
    "        elif isinstance(event[\"msg\"],list):\n",
    "            text += \"\\n\".join(event[\"msg\"])\n",
    "        elif isinstance(event[\"msg\"],str):\n",
    "            text = event[\"msg\"]\n",
    "        print(text)\n",
    "        payload = {\n",
    "            \"text\": text,\n",
    "        }\n",
    "        replyMessage(payload)\n",
    "        \n",
    "    \n",
    "    return {\n",
    "        'statusCode': 200,\n",
    "        'body': json.dumps('Hello from Lambda!')\n",
    "    }\n"
   ]
  }
 ],
 "metadata": {
  "kernelspec": {
   "display_name": "Python 3",
   "language": "python",
   "name": "python3"
  },
  "language_info": {
   "codemirror_mode": {
    "name": "ipython",
    "version": 3
   },
   "file_extension": ".py",
   "mimetype": "text/x-python",
   "name": "python",
   "nbconvert_exporter": "python",
   "pygments_lexer": "ipython3",
   "version": "3.7.6"
  }
 },
 "nbformat": 4,
 "nbformat_minor": 4
}
