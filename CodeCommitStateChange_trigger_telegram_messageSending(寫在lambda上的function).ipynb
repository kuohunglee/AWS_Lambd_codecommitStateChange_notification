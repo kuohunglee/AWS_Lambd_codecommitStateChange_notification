{
 "cells": [
  {
   "cell_type": "code",
   "execution_count": null,
   "metadata": {},
   "outputs": [],
   "source": [
    "#觸發事件:AWS_eventBride(cloudWatchEvents)\n",
    "\n",
    "import json\n",
    "import requests\n",
    "import boto3\n",
    "\n",
    "AWS_LAMBDA_TELEGRAM_ADMINBOT_URL = \"此為觸發telegram bot lambda的API Gateway URL\"\n",
    "\n",
    "def sendTelegramMessage(msg):\n",
    "    try:\n",
    "        with requests.Session() as s:\n",
    "            res = s.post(\n",
    "                AWS_LAMBDA_TELEGRAM_ADMINBOT_URL,\n",
    "                data = json.dumps({\"msg\":msg}))\n",
    "            print(res.content)\n",
    "    except Exception as e:\n",
    "        app.logger.error(e)\n",
    "\n",
    "def lambda_handler(event, context):\n",
    "    # TODO implement\n",
    "    print(event) #會在cloudwatch log中打印出來\n",
    "    \n",
    "    detail_type = event[\"detail-type\"]\n",
    "    \n",
    "    if \"State Change\" in detail_type:\n",
    "        time = event[\"time\"]\n",
    "        referenceType = event[\"detail\"][\"referenceType\"]\n",
    "        repositoryName = event[\"detail\"][\"repositoryName\"]\n",
    "        referenceName = event[\"detail\"][\"referenceName\"]\n",
    "        eventName = event[\"detail\"][\"event\"]\n",
    "        commitID = event[\"detail\"][\"commitId\"] #獲取後用來提取詳細資料(修改者名稱 & git commit時的備註訊息)\n",
    "\n",
    "        #利用boto3的codecommit服務去獲取所獲得commitID詳細資訊\n",
    "        cct = boto3.client('codecommit', region_name=\"us-west-2\", aws_access_key_id='A*************J3', aws_secret_access_key='3C9************L+')\n",
    "        response = cct.get_commit(\n",
    "            repositoryName='Ga***********ess',\n",
    "            commitId=commitID\n",
    "        )\n",
    "        account = response['commit']['author']['name']\n",
    "        message = response['commit']['message']\n",
    "\n",
    "        #telegram發送最終訊息\n",
    "        teleMsg = f\"<AWS_CodeCommit變更> \\n修改者:{account} \\n變更事件:{eventName} \\n變更時間:{time} \\n倉倉庫名稱:{repositoryName} \\n分支名稱:{referenceName} \\n備註訊息:{message}\"\n",
    "        sendTelegramMessage(teleMsg)\n",
    "        \n",
    "    return {\n",
    "        'statusCode': 200,\n",
    "        'body': json.dumps(event)\n",
    "    }"
   ]
  }
 ],
 "metadata": {
  "kernelspec": {
   "display_name": "Python 3",
   "language": "python",
   "name": "python3"
  },
  "language_info": {
   "codemirror_mode": {
    "name": "ipython",
    "version": 3
   },
   "file_extension": ".py",
   "mimetype": "text/x-python",
   "name": "python",
   "nbconvert_exporter": "python",
   "pygments_lexer": "ipython3",
   "version": "3.7.6"
  }
 },
 "nbformat": 4,
 "nbformat_minor": 4
}
